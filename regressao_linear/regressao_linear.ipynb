{
 "cells": [
  {
   "cell_type": "markdown",
   "metadata": {},
   "source": [
    "# O modelo da regressão linear simpres\n",
    "\n",
    "$ Y = \\beta_0 + \\beta_1 x + \\epsilon$\n",
    "\n",
    "## O princípio dos mínimos quadrados \n",
    "\n",
    "O desvio vertical do ponto ($x_i, y_i$) da reta $y = b_0 = b_1 x_i$  $y = b_0 + b_1 x$ é:\n",
    "\n",
    "$altura_do_ponto - altura_da_reta = y_i - (b_0 + b_1 x_i)$\n",
    "\n",
    "A soma dos desvios quadrados verticais dos pontos $(x_1,y_1)$, ... , $(x_n, y_n)$ à reta é, portanto:\n",
    "\n",
    "$f(b_0, b_1) = \\sum\\limits_{i=0}^{n}[y_i - (b_0+b_1 x_i)]^2 $\n",
    "\n",
    "\n",
    "\n",
    "As estimativas pontuais de $\\beta_0$ e $\\beta_1$, representadas por $\\hat \\beta_0$ e $\\hat \\beta_1$ e denominadas **estimativas dos\n",
    "mínimos quadrados**, são aqueles valores que minimizam $f (b_0 , b_1)$. Ou seja,\n",
    "\n",
    "$\\hat \\beta_0$ e $\\hat \\beta_1$  são tais que\n",
    "\n",
    "\n",
    "$f(\\hat \\beta_0,\\hat \\beta_1) \\le f(b_0 , b_1)$ \n",
    "\n",
    "para qualquer $b_0 \\text{ e } b_1$. \n",
    "\n",
    "A **reta de regressão estimada** ou a **reta dos mínimos\n",
    "quadrados** é, portanto, a reta cuja equação é \n",
    "\n",
    "$ y = \\hat \\beta_0 + \\hat \\beta_1 x$"
   ]
  },
  {
   "cell_type": "markdown",
   "metadata": {},
   "source": [
    "A estimativa dos mínimos quadrados do coeficiente angular $\\beta_1$ da reta de regressão real é:\n",
    "\n",
    "$ b_1 = \\hat \\beta_1 = \\frac{\\sum (x_i - \\overline{x})(y_i - \\overline{y})}{\\sum (x_i - \\overline{x})^2 } = \\frac{S_{xy}}{S_{xx}}$\n",
    "\n",
    "\n"
   ]
  },
  {
   "cell_type": "markdown",
   "metadata": {},
   "source": [
    "As fórmulas de cálculo do numerador e denominador de $\\hat\\beta_1$ são:\n",
    "\n",
    "$ S_{xx} =  \\sum x_i y_i - \\frac{(\\sum x_1)(\\sum y_1)}{n}$\n",
    "\n",
    "\n",
    "$S_{xx}  = \\sum \\x_i^2 - \\frac{(\\sum x_i)^2}{n}$\n"
   ]
  },
  {
   "cell_type": "markdown",
   "metadata": {},
   "source": [
    "A estimativa dos mínimos quadrados do termo constante $\\hat \\beta_0$ 0 da reta de regressão real é:\n",
    "\n",
    "$ b_0 = \\hat \\beta_0 = \\frac{\\sum y_i - \\hat \\beta_i \\sum x_i}{n} = \\overline{y} - \\hat \\beta_1 \\overline{x} $"
   ]
  },
  {
   "cell_type": "code",
   "execution_count": 5,
   "metadata": {},
   "outputs": [],
   "source": [
    "import pandas as pd"
   ]
  },
  {
   "cell_type": "code",
   "execution_count": 9,
   "metadata": {},
   "outputs": [
    {
     "data": {
      "text/html": [
       "<div>\n",
       "<style scoped>\n",
       "    .dataframe tbody tr th:only-of-type {\n",
       "        vertical-align: middle;\n",
       "    }\n",
       "\n",
       "    .dataframe tbody tr th {\n",
       "        vertical-align: top;\n",
       "    }\n",
       "\n",
       "    .dataframe thead th {\n",
       "        text-align: right;\n",
       "    }\n",
       "</style>\n",
       "<table border=\"1\" class=\"dataframe\">\n",
       "  <thead>\n",
       "    <tr style=\"text-align: right;\">\n",
       "      <th></th>\n",
       "      <th>x</th>\n",
       "      <th>y</th>\n",
       "    </tr>\n",
       "  </thead>\n",
       "  <tbody>\n",
       "    <tr>\n",
       "      <th>0</th>\n",
       "      <td>99.0</td>\n",
       "      <td>28.8</td>\n",
       "    </tr>\n",
       "    <tr>\n",
       "      <th>1</th>\n",
       "      <td>101.1</td>\n",
       "      <td>27.9</td>\n",
       "    </tr>\n",
       "    <tr>\n",
       "      <th>2</th>\n",
       "      <td>102.7</td>\n",
       "      <td>27.0</td>\n",
       "    </tr>\n",
       "    <tr>\n",
       "      <th>3</th>\n",
       "      <td>103.0</td>\n",
       "      <td>25.2</td>\n",
       "    </tr>\n",
       "    <tr>\n",
       "      <th>4</th>\n",
       "      <td>105.4</td>\n",
       "      <td>22.8</td>\n",
       "    </tr>\n",
       "    <tr>\n",
       "      <th>5</th>\n",
       "      <td>107.0</td>\n",
       "      <td>21.5</td>\n",
       "    </tr>\n",
       "    <tr>\n",
       "      <th>6</th>\n",
       "      <td>108.7</td>\n",
       "      <td>20.9</td>\n",
       "    </tr>\n",
       "    <tr>\n",
       "      <th>7</th>\n",
       "      <td>110.8</td>\n",
       "      <td>19.6</td>\n",
       "    </tr>\n",
       "    <tr>\n",
       "      <th>8</th>\n",
       "      <td>112.1</td>\n",
       "      <td>17.1</td>\n",
       "    </tr>\n",
       "    <tr>\n",
       "      <th>9</th>\n",
       "      <td>112.4</td>\n",
       "      <td>18.9</td>\n",
       "    </tr>\n",
       "    <tr>\n",
       "      <th>10</th>\n",
       "      <td>113.6</td>\n",
       "      <td>16.0</td>\n",
       "    </tr>\n",
       "    <tr>\n",
       "      <th>11</th>\n",
       "      <td>113.8</td>\n",
       "      <td>16.7</td>\n",
       "    </tr>\n",
       "    <tr>\n",
       "      <th>12</th>\n",
       "      <td>115.1</td>\n",
       "      <td>13.0</td>\n",
       "    </tr>\n",
       "    <tr>\n",
       "      <th>13</th>\n",
       "      <td>115.4</td>\n",
       "      <td>13.6</td>\n",
       "    </tr>\n",
       "    <tr>\n",
       "      <th>14</th>\n",
       "      <td>120.0</td>\n",
       "      <td>10.8</td>\n",
       "    </tr>\n",
       "  </tbody>\n",
       "</table>\n",
       "</div>"
      ],
      "text/plain": [
       "        x     y\n",
       "0    99.0  28.8\n",
       "1   101.1  27.9\n",
       "2   102.7  27.0\n",
       "3   103.0  25.2\n",
       "4   105.4  22.8\n",
       "5   107.0  21.5\n",
       "6   108.7  20.9\n",
       "7   110.8  19.6\n",
       "8   112.1  17.1\n",
       "9   112.4  18.9\n",
       "10  113.6  16.0\n",
       "11  113.8  16.7\n",
       "12  115.1  13.0\n",
       "13  115.4  13.6\n",
       "14  120.0  10.8"
      ]
     },
     "execution_count": 9,
     "metadata": {},
     "output_type": "execute_result"
    }
   ],
   "source": [
    "df = pd.read_csv(\"regressao_linear_dataset_ex1.csv\")\n",
    "df"
   ]
  },
  {
   "cell_type": "code",
   "execution_count": 18,
   "metadata": {},
   "outputs": [
    {
     "data": {
      "text/html": [
       "<div>\n",
       "<style scoped>\n",
       "    .dataframe tbody tr th:only-of-type {\n",
       "        vertical-align: middle;\n",
       "    }\n",
       "\n",
       "    .dataframe tbody tr th {\n",
       "        vertical-align: top;\n",
       "    }\n",
       "\n",
       "    .dataframe thead th {\n",
       "        text-align: right;\n",
       "    }\n",
       "</style>\n",
       "<table border=\"1\" class=\"dataframe\">\n",
       "  <thead>\n",
       "    <tr style=\"text-align: right;\">\n",
       "      <th></th>\n",
       "      <th>x</th>\n",
       "      <th>y</th>\n",
       "      <th>xx</th>\n",
       "      <th>xy</th>\n",
       "      <th>yy</th>\n",
       "    </tr>\n",
       "  </thead>\n",
       "  <tbody>\n",
       "    <tr>\n",
       "      <th>0</th>\n",
       "      <td>99.0</td>\n",
       "      <td>28.8</td>\n",
       "      <td>9801.00</td>\n",
       "      <td>2851.20</td>\n",
       "      <td>829.44</td>\n",
       "    </tr>\n",
       "    <tr>\n",
       "      <th>1</th>\n",
       "      <td>101.1</td>\n",
       "      <td>27.9</td>\n",
       "      <td>10221.21</td>\n",
       "      <td>2820.69</td>\n",
       "      <td>778.41</td>\n",
       "    </tr>\n",
       "    <tr>\n",
       "      <th>2</th>\n",
       "      <td>102.7</td>\n",
       "      <td>27.0</td>\n",
       "      <td>10547.29</td>\n",
       "      <td>2772.90</td>\n",
       "      <td>729.00</td>\n",
       "    </tr>\n",
       "    <tr>\n",
       "      <th>3</th>\n",
       "      <td>103.0</td>\n",
       "      <td>25.2</td>\n",
       "      <td>10609.00</td>\n",
       "      <td>2595.60</td>\n",
       "      <td>635.04</td>\n",
       "    </tr>\n",
       "    <tr>\n",
       "      <th>4</th>\n",
       "      <td>105.4</td>\n",
       "      <td>22.8</td>\n",
       "      <td>11109.16</td>\n",
       "      <td>2403.12</td>\n",
       "      <td>519.84</td>\n",
       "    </tr>\n",
       "    <tr>\n",
       "      <th>5</th>\n",
       "      <td>107.0</td>\n",
       "      <td>21.5</td>\n",
       "      <td>11449.00</td>\n",
       "      <td>2300.50</td>\n",
       "      <td>462.25</td>\n",
       "    </tr>\n",
       "    <tr>\n",
       "      <th>6</th>\n",
       "      <td>108.7</td>\n",
       "      <td>20.9</td>\n",
       "      <td>11815.69</td>\n",
       "      <td>2271.83</td>\n",
       "      <td>436.81</td>\n",
       "    </tr>\n",
       "    <tr>\n",
       "      <th>7</th>\n",
       "      <td>110.8</td>\n",
       "      <td>19.6</td>\n",
       "      <td>12276.64</td>\n",
       "      <td>2171.68</td>\n",
       "      <td>384.16</td>\n",
       "    </tr>\n",
       "    <tr>\n",
       "      <th>8</th>\n",
       "      <td>112.1</td>\n",
       "      <td>17.1</td>\n",
       "      <td>12566.41</td>\n",
       "      <td>1916.91</td>\n",
       "      <td>292.41</td>\n",
       "    </tr>\n",
       "    <tr>\n",
       "      <th>9</th>\n",
       "      <td>112.4</td>\n",
       "      <td>18.9</td>\n",
       "      <td>12633.76</td>\n",
       "      <td>2124.36</td>\n",
       "      <td>357.21</td>\n",
       "    </tr>\n",
       "    <tr>\n",
       "      <th>10</th>\n",
       "      <td>113.6</td>\n",
       "      <td>16.0</td>\n",
       "      <td>12904.96</td>\n",
       "      <td>1817.60</td>\n",
       "      <td>256.00</td>\n",
       "    </tr>\n",
       "    <tr>\n",
       "      <th>11</th>\n",
       "      <td>113.8</td>\n",
       "      <td>16.7</td>\n",
       "      <td>12950.44</td>\n",
       "      <td>1900.46</td>\n",
       "      <td>278.89</td>\n",
       "    </tr>\n",
       "    <tr>\n",
       "      <th>12</th>\n",
       "      <td>115.1</td>\n",
       "      <td>13.0</td>\n",
       "      <td>13248.01</td>\n",
       "      <td>1496.30</td>\n",
       "      <td>169.00</td>\n",
       "    </tr>\n",
       "    <tr>\n",
       "      <th>13</th>\n",
       "      <td>115.4</td>\n",
       "      <td>13.6</td>\n",
       "      <td>13317.16</td>\n",
       "      <td>1569.44</td>\n",
       "      <td>184.96</td>\n",
       "    </tr>\n",
       "    <tr>\n",
       "      <th>14</th>\n",
       "      <td>120.0</td>\n",
       "      <td>10.8</td>\n",
       "      <td>14400.00</td>\n",
       "      <td>1296.00</td>\n",
       "      <td>116.64</td>\n",
       "    </tr>\n",
       "  </tbody>\n",
       "</table>\n",
       "</div>"
      ],
      "text/plain": [
       "        x     y        xx       xy      yy\n",
       "0    99.0  28.8   9801.00  2851.20  829.44\n",
       "1   101.1  27.9  10221.21  2820.69  778.41\n",
       "2   102.7  27.0  10547.29  2772.90  729.00\n",
       "3   103.0  25.2  10609.00  2595.60  635.04\n",
       "4   105.4  22.8  11109.16  2403.12  519.84\n",
       "5   107.0  21.5  11449.00  2300.50  462.25\n",
       "6   108.7  20.9  11815.69  2271.83  436.81\n",
       "7   110.8  19.6  12276.64  2171.68  384.16\n",
       "8   112.1  17.1  12566.41  1916.91  292.41\n",
       "9   112.4  18.9  12633.76  2124.36  357.21\n",
       "10  113.6  16.0  12904.96  1817.60  256.00\n",
       "11  113.8  16.7  12950.44  1900.46  278.89\n",
       "12  115.1  13.0  13248.01  1496.30  169.00\n",
       "13  115.4  13.6  13317.16  1569.44  184.96\n",
       "14  120.0  10.8  14400.00  1296.00  116.64"
      ]
     },
     "execution_count": 18,
     "metadata": {},
     "output_type": "execute_result"
    }
   ],
   "source": [
    "x = [99.0, 101.1, 102.7, 103.0, 105.4, 107.0, 108.7, 110.8, 112.1, 112.4, 113.6, 113.8, 115.1, 115.4, 120.0]\n",
    "y = [28.8, 27.9, 27.0, 25.2, 22.8, 21.5, 20.9, 19.6, 17.1, 18.9, 16.0, 16.7, 13.0, 13.6, 10.8 ]\n",
    "\n",
    "df = pd.DataFrame({'x':x, 'y':y})\n",
    "df['xx'] = df['x'] * df['x']\n",
    "df['xy'] = df['x'] * df['y']\n",
    "df['yy'] = df['y'] * df['y']\n",
    "df\n"
   ]
  },
  {
   "cell_type": "code",
   "execution_count": 26,
   "metadata": {},
   "outputs": [
    {
     "data": {
      "text/plain": [
       "[1640.1, 299.8, 179849.73, 32308.589999999997, 6430.06]"
      ]
     },
     "execution_count": 26,
     "metadata": {},
     "output_type": "execute_result"
    }
   ],
   "source": [
    "# dfsum = pd.DataFrame('x':df['x'].sum(), 'y':df['y'].sum(), 'xx':df['xx'].sum(), 'xy':df['xy'].sum(), 'yy':df['yy'].sum() )\n",
    "dfsum = []\n",
    "dfsum.append(df['x'].sum())\n",
    "dfsum.append(df['y'].sum())\n",
    "dfsum.append(df['xx'].sum())\n",
    "dfsum.append(df['xy'].sum())\n",
    "dfsum.append(df['yy'].sum())\n",
    "\n",
    "dfsum"
   ]
  },
  {
   "cell_type": "code",
   "execution_count": 19,
   "metadata": {},
   "outputs": [
    {
     "name": "stdout",
     "output_type": "stream",
     "text": [
      "<class 'pandas.core.frame.DataFrame'>\n",
      "RangeIndex: 15 entries, 0 to 14\n",
      "Data columns (total 5 columns):\n",
      " #   Column  Non-Null Count  Dtype  \n",
      "---  ------  --------------  -----  \n",
      " 0   x       15 non-null     float64\n",
      " 1   y       15 non-null     float64\n",
      " 2   xx      15 non-null     float64\n",
      " 3   xy      15 non-null     float64\n",
      " 4   yy      15 non-null     float64\n",
      "dtypes: float64(5)\n",
      "memory usage: 728.0 bytes\n"
     ]
    },
    {
     "data": {
      "text/html": [
       "<div>\n",
       "<style scoped>\n",
       "    .dataframe tbody tr th:only-of-type {\n",
       "        vertical-align: middle;\n",
       "    }\n",
       "\n",
       "    .dataframe tbody tr th {\n",
       "        vertical-align: top;\n",
       "    }\n",
       "\n",
       "    .dataframe thead th {\n",
       "        text-align: right;\n",
       "    }\n",
       "</style>\n",
       "<table border=\"1\" class=\"dataframe\">\n",
       "  <thead>\n",
       "    <tr style=\"text-align: right;\">\n",
       "      <th></th>\n",
       "      <th>x</th>\n",
       "      <th>y</th>\n",
       "      <th>xx</th>\n",
       "      <th>xy</th>\n",
       "      <th>yy</th>\n",
       "    </tr>\n",
       "  </thead>\n",
       "  <tbody>\n",
       "    <tr>\n",
       "      <th>count</th>\n",
       "      <td>15.000000</td>\n",
       "      <td>15.000000</td>\n",
       "      <td>15.000000</td>\n",
       "      <td>15.000000</td>\n",
       "      <td>15.000000</td>\n",
       "    </tr>\n",
       "    <tr>\n",
       "      <th>mean</th>\n",
       "      <td>109.340000</td>\n",
       "      <td>19.986667</td>\n",
       "      <td>11989.982000</td>\n",
       "      <td>2153.906000</td>\n",
       "      <td>428.670667</td>\n",
       "    </tr>\n",
       "    <tr>\n",
       "      <th>std</th>\n",
       "      <td>6.101499</td>\n",
       "      <td>5.593729</td>\n",
       "      <td>1329.563135</td>\n",
       "      <td>489.264165</td>\n",
       "      <td>227.928000</td>\n",
       "    </tr>\n",
       "    <tr>\n",
       "      <th>min</th>\n",
       "      <td>99.000000</td>\n",
       "      <td>10.800000</td>\n",
       "      <td>9801.000000</td>\n",
       "      <td>1296.000000</td>\n",
       "      <td>116.640000</td>\n",
       "    </tr>\n",
       "    <tr>\n",
       "      <th>25%</th>\n",
       "      <td>104.200000</td>\n",
       "      <td>16.350000</td>\n",
       "      <td>10859.080000</td>\n",
       "      <td>1859.030000</td>\n",
       "      <td>267.445000</td>\n",
       "    </tr>\n",
       "    <tr>\n",
       "      <th>50%</th>\n",
       "      <td>110.800000</td>\n",
       "      <td>19.600000</td>\n",
       "      <td>12276.640000</td>\n",
       "      <td>2171.680000</td>\n",
       "      <td>384.160000</td>\n",
       "    </tr>\n",
       "    <tr>\n",
       "      <th>75%</th>\n",
       "      <td>113.700000</td>\n",
       "      <td>24.000000</td>\n",
       "      <td>12927.700000</td>\n",
       "      <td>2499.360000</td>\n",
       "      <td>577.440000</td>\n",
       "    </tr>\n",
       "    <tr>\n",
       "      <th>max</th>\n",
       "      <td>120.000000</td>\n",
       "      <td>28.800000</td>\n",
       "      <td>14400.000000</td>\n",
       "      <td>2851.200000</td>\n",
       "      <td>829.440000</td>\n",
       "    </tr>\n",
       "  </tbody>\n",
       "</table>\n",
       "</div>"
      ],
      "text/plain": [
       "                x          y            xx           xy          yy\n",
       "count   15.000000  15.000000     15.000000    15.000000   15.000000\n",
       "mean   109.340000  19.986667  11989.982000  2153.906000  428.670667\n",
       "std      6.101499   5.593729   1329.563135   489.264165  227.928000\n",
       "min     99.000000  10.800000   9801.000000  1296.000000  116.640000\n",
       "25%    104.200000  16.350000  10859.080000  1859.030000  267.445000\n",
       "50%    110.800000  19.600000  12276.640000  2171.680000  384.160000\n",
       "75%    113.700000  24.000000  12927.700000  2499.360000  577.440000\n",
       "max    120.000000  28.800000  14400.000000  2851.200000  829.440000"
      ]
     },
     "execution_count": 19,
     "metadata": {},
     "output_type": "execute_result"
    }
   ],
   "source": [
    "df.info()\n",
    "df.describe()"
   ]
  },
  {
   "cell_type": "code",
   "execution_count": 28,
   "metadata": {},
   "outputs": [],
   "source": [
    "# Média de x e y\n",
    "x_med = df['x'].mean()\n",
    "y_med = df['y'].mean()"
   ]
  },
  {
   "cell_type": "markdown",
   "metadata": {},
   "source": [
    "$\\hat \\beta_1 = \\frac{S_{xy}}{S_{xx}}$ "
   ]
  },
  {
   "cell_type": "code",
   "execution_count": 40,
   "metadata": {},
   "outputs": [
    {
     "data": {
      "text/plain": [
       "-0.9047306579482158"
      ]
     },
     "execution_count": 40,
     "metadata": {},
     "output_type": "execute_result"
    }
   ],
   "source": [
    "S_xy = df['xy'].sum() - df['x'].sum()*df['y'].sum()/df['x'].count()\n",
    "S_xx = df['xx'].sum() - df['x'].sum().__pow__(2)/df['x'].count()\n",
    "\n",
    "beta_1 = S_xy/S_xx\n",
    "beta_1"
   ]
  },
  {
   "cell_type": "code",
   "execution_count": 41,
   "metadata": {},
   "outputs": [
    {
     "data": {
      "text/plain": [
       "118.90991680672457"
      ]
     },
     "execution_count": 41,
     "metadata": {},
     "output_type": "execute_result"
    }
   ],
   "source": [
    "beta_0 = y_med - (beta_1)*x_med\n",
    "beta_0"
   ]
  },
  {
   "cell_type": "markdown",
   "metadata": {},
   "source": [
    "Modelo de regressão linear\n",
    "\n",
    "$ Y = \\beta_1 x + \\beta_0$"
   ]
  },
  {
   "cell_type": "code",
   "execution_count": 48,
   "metadata": {},
   "outputs": [
    {
     "name": "stdout",
     "output_type": "stream",
     "text": [
      "y = -0.9x + 118.91\n"
     ]
    }
   ],
   "source": [
    "print('y = {}x + {}'.format(round(beta_1,2),round(beta_0,2)))"
   ]
  }
 ],
 "metadata": {
  "interpreter": {
   "hash": "8c137caf83d93f9c3b7b8df4188adc504d888869877319d7e229141b521ff22a"
  },
  "kernelspec": {
   "display_name": "Python 3.9.2 ('nbenv': venv)",
   "language": "python",
   "name": "python3"
  },
  "language_info": {
   "codemirror_mode": {
    "name": "ipython",
    "version": 3
   },
   "file_extension": ".py",
   "mimetype": "text/x-python",
   "name": "python",
   "nbconvert_exporter": "python",
   "pygments_lexer": "ipython3",
   "version": "3.9.2"
  },
  "orig_nbformat": 4
 },
 "nbformat": 4,
 "nbformat_minor": 2
}
